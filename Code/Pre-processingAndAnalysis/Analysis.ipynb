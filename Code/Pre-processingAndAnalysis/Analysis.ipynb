{
 "cells": [
  {
   "cell_type": "markdown",
   "id": "3189b5b0-b2fb-4573-a56a-e07d6474aa85",
   "metadata": {},
   "source": [
    "Link to github with most of info plus links to dataset and notebooks showing processing - https://github.com/mdeff/fma?tab=readme-ov-file"
   ]
  },
  {
   "cell_type": "markdown",
   "id": "5f79535d-92da-4f55-af89-1600eae7a08c",
   "metadata": {},
   "source": [
    "Link to usage NB which is useful for understanding how to interact with the dataset - https://nbviewer.org/github/mdeff/fma/blob/outputs/usage.ipynb"
   ]
  },
  {
   "cell_type": "code",
   "execution_count": 1,
   "id": "6212c601-609e-4e16-a100-cf8ef36b2a2f",
   "metadata": {},
   "outputs": [],
   "source": [
    "%matplotlib inline\n",
    "\n",
    "import os\n",
    "\n",
    "import numpy as np\n",
    "import pandas as pd\n",
    "import matplotlib.pyplot as plt\n",
    "\n",
    "import math\n",
    "\n",
    "from sklearn.model_selection import train_test_split\n",
    "from sklearn.preprocessing import LabelEncoder\n",
    "from sklearn.svm import SVC\n",
    "from sklearn.neighbors import KNeighborsClassifier\n",
    "from sklearn.naive_bayes import GaussianNB\n",
    "\n",
    "from sklearn.metrics import accuracy_score, classification_report"
   ]
  },
  {
   "cell_type": "code",
   "execution_count": 2,
   "id": "0b3b5b48-e9f6-47bf-bece-af412c008b51",
   "metadata": {},
   "outputs": [],
   "source": [
    "track_headers = pd.read_csv('fma_metadata/tracks.csv',nrows=3, header=None)\n",
    "new_track_headers = []\n",
    "\n",
    "for col in track_headers:\n",
    "    if not isinstance(track_headers[col].iloc[0],str) :\n",
    "        new_track_headers.append(track_headers[col].iloc[2])\n",
    "    else:\n",
    "        new_track_headers.append(track_headers[col].iloc[0]+\"_\"+track_headers[col].iloc[1])"
   ]
  },
  {
   "cell_type": "code",
   "execution_count": 3,
   "id": "082ac2a7-0a7c-43c8-8d65-2754cadd17ad",
   "metadata": {},
   "outputs": [],
   "source": [
    "# new_track_headers\n"
   ]
  },
  {
   "cell_type": "code",
   "execution_count": 4,
   "id": "cb70499f-c068-4090-9675-d8bf99553eef",
   "metadata": {},
   "outputs": [
    {
     "data": {
      "text/html": [
       "<div>\n",
       "<style scoped>\n",
       "    .dataframe tbody tr th:only-of-type {\n",
       "        vertical-align: middle;\n",
       "    }\n",
       "\n",
       "    .dataframe tbody tr th {\n",
       "        vertical-align: top;\n",
       "    }\n",
       "\n",
       "    .dataframe thead th {\n",
       "        text-align: right;\n",
       "    }\n",
       "</style>\n",
       "<table border=\"1\" class=\"dataframe\">\n",
       "  <thead>\n",
       "    <tr style=\"text-align: right;\">\n",
       "      <th></th>\n",
       "      <th>track_id</th>\n",
       "      <th>album_comments</th>\n",
       "      <th>album_date_created</th>\n",
       "      <th>album_date_released</th>\n",
       "      <th>album_engineer</th>\n",
       "      <th>album_favorites</th>\n",
       "      <th>album_id</th>\n",
       "      <th>album_information</th>\n",
       "      <th>album_listens</th>\n",
       "      <th>album_producer</th>\n",
       "      <th>...</th>\n",
       "      <th>track_information</th>\n",
       "      <th>track_interest</th>\n",
       "      <th>track_language_code</th>\n",
       "      <th>track_license</th>\n",
       "      <th>track_listens</th>\n",
       "      <th>track_lyricist</th>\n",
       "      <th>track_number</th>\n",
       "      <th>track_publisher</th>\n",
       "      <th>track_tags</th>\n",
       "      <th>track_title</th>\n",
       "    </tr>\n",
       "  </thead>\n",
       "  <tbody>\n",
       "    <tr>\n",
       "      <th>0</th>\n",
       "      <td>2</td>\n",
       "      <td>0</td>\n",
       "      <td>2008-11-26 01:44:45</td>\n",
       "      <td>2009-01-05 00:00:00</td>\n",
       "      <td>NaN</td>\n",
       "      <td>4</td>\n",
       "      <td>1</td>\n",
       "      <td>&lt;p&gt;&lt;/p&gt;</td>\n",
       "      <td>6073</td>\n",
       "      <td>NaN</td>\n",
       "      <td>...</td>\n",
       "      <td>NaN</td>\n",
       "      <td>4656</td>\n",
       "      <td>en</td>\n",
       "      <td>Attribution-NonCommercial-ShareAlike 3.0 Inter...</td>\n",
       "      <td>1293</td>\n",
       "      <td>NaN</td>\n",
       "      <td>3</td>\n",
       "      <td>NaN</td>\n",
       "      <td>[]</td>\n",
       "      <td>Food</td>\n",
       "    </tr>\n",
       "    <tr>\n",
       "      <th>1</th>\n",
       "      <td>3</td>\n",
       "      <td>0</td>\n",
       "      <td>2008-11-26 01:44:45</td>\n",
       "      <td>2009-01-05 00:00:00</td>\n",
       "      <td>NaN</td>\n",
       "      <td>4</td>\n",
       "      <td>1</td>\n",
       "      <td>&lt;p&gt;&lt;/p&gt;</td>\n",
       "      <td>6073</td>\n",
       "      <td>NaN</td>\n",
       "      <td>...</td>\n",
       "      <td>NaN</td>\n",
       "      <td>1470</td>\n",
       "      <td>en</td>\n",
       "      <td>Attribution-NonCommercial-ShareAlike 3.0 Inter...</td>\n",
       "      <td>514</td>\n",
       "      <td>NaN</td>\n",
       "      <td>4</td>\n",
       "      <td>NaN</td>\n",
       "      <td>[]</td>\n",
       "      <td>Electric Ave</td>\n",
       "    </tr>\n",
       "    <tr>\n",
       "      <th>2</th>\n",
       "      <td>5</td>\n",
       "      <td>0</td>\n",
       "      <td>2008-11-26 01:44:45</td>\n",
       "      <td>2009-01-05 00:00:00</td>\n",
       "      <td>NaN</td>\n",
       "      <td>4</td>\n",
       "      <td>1</td>\n",
       "      <td>&lt;p&gt;&lt;/p&gt;</td>\n",
       "      <td>6073</td>\n",
       "      <td>NaN</td>\n",
       "      <td>...</td>\n",
       "      <td>NaN</td>\n",
       "      <td>1933</td>\n",
       "      <td>en</td>\n",
       "      <td>Attribution-NonCommercial-ShareAlike 3.0 Inter...</td>\n",
       "      <td>1151</td>\n",
       "      <td>NaN</td>\n",
       "      <td>6</td>\n",
       "      <td>NaN</td>\n",
       "      <td>[]</td>\n",
       "      <td>This World</td>\n",
       "    </tr>\n",
       "  </tbody>\n",
       "</table>\n",
       "<p>3 rows × 53 columns</p>\n",
       "</div>"
      ],
      "text/plain": [
       "   track_id  album_comments   album_date_created  album_date_released  \\\n",
       "0         2               0  2008-11-26 01:44:45  2009-01-05 00:00:00   \n",
       "1         3               0  2008-11-26 01:44:45  2009-01-05 00:00:00   \n",
       "2         5               0  2008-11-26 01:44:45  2009-01-05 00:00:00   \n",
       "\n",
       "  album_engineer  album_favorites  album_id album_information  album_listens  \\\n",
       "0            NaN                4         1           <p></p>           6073   \n",
       "1            NaN                4         1           <p></p>           6073   \n",
       "2            NaN                4         1           <p></p>           6073   \n",
       "\n",
       "  album_producer  ... track_information track_interest  track_language_code  \\\n",
       "0            NaN  ...               NaN           4656                   en   \n",
       "1            NaN  ...               NaN           1470                   en   \n",
       "2            NaN  ...               NaN           1933                   en   \n",
       "\n",
       "                                       track_license track_listens  \\\n",
       "0  Attribution-NonCommercial-ShareAlike 3.0 Inter...          1293   \n",
       "1  Attribution-NonCommercial-ShareAlike 3.0 Inter...           514   \n",
       "2  Attribution-NonCommercial-ShareAlike 3.0 Inter...          1151   \n",
       "\n",
       "  track_lyricist track_number track_publisher  track_tags   track_title  \n",
       "0            NaN            3             NaN          []          Food  \n",
       "1            NaN            4             NaN          []  Electric Ave  \n",
       "2            NaN            6             NaN          []    This World  \n",
       "\n",
       "[3 rows x 53 columns]"
      ]
     },
     "execution_count": 4,
     "metadata": {},
     "output_type": "execute_result"
    }
   ],
   "source": [
    "tracks = pd.read_csv('fma_metadata/tracks.csv',skiprows=[0,1,2], header=None)\n",
    "tracks.columns = new_track_headers\n",
    "tracks.head(3)"
   ]
  },
  {
   "cell_type": "code",
   "execution_count": 5,
   "id": "eb108747-bd74-41e4-b410-52fe73a45f7e",
   "metadata": {},
   "outputs": [
    {
     "data": {
      "text/plain": [
       "(106574, 53)"
      ]
     },
     "execution_count": 5,
     "metadata": {},
     "output_type": "execute_result"
    }
   ],
   "source": [
    "tracks.shape"
   ]
  },
  {
   "cell_type": "code",
   "execution_count": 6,
   "id": "d7498bc4-fd55-4ee6-a8db-89289bc41ba0",
   "metadata": {},
   "outputs": [
    {
     "data": {
      "text/plain": [
       "track_id                         0\n",
       "album_comments                   0\n",
       "album_date_created            3529\n",
       "album_date_released          36280\n",
       "album_engineer               91279\n",
       "album_favorites                  0\n",
       "album_id                         0\n",
       "album_information            23425\n",
       "album_listens                    0\n",
       "album_producer               88514\n",
       "album_tags                       0\n",
       "album_title                   1025\n",
       "album_tracks                     0\n",
       "album_type                    6508\n",
       "artist_active_year_begin     83863\n",
       "artist_active_year_end      101199\n",
       "artist_associated_labels     92303\n",
       "artist_bio                   35418\n",
       "artist_comments                  0\n",
       "artist_date_created            856\n",
       "artist_favorites                 0\n",
       "artist_id                        0\n",
       "artist_latitude              62030\n",
       "artist_location              36364\n",
       "artist_longitude             62030\n",
       "artist_members               59725\n",
       "artist_name                      0\n",
       "artist_related_projects      93422\n",
       "artist_tags                      0\n",
       "artist_website               27318\n",
       "artist_wikipedia_page       100993\n",
       "set_split                        0\n",
       "set_subset                       0\n",
       "track_bit_rate                   0\n",
       "track_comments                   0\n",
       "track_composer              102904\n",
       "track_date_created               0\n",
       "track_date_recorded         100415\n",
       "track_duration                   0\n",
       "track_favorites                  0\n",
       "track_genre_top              56976\n",
       "track_genres                     0\n",
       "track_genres_all                 0\n",
       "track_information           104225\n",
       "track_interest                   0\n",
       "track_language_code          91550\n",
       "track_license                   87\n",
       "track_listens                    0\n",
       "track_lyricist              106263\n",
       "track_number                     0\n",
       "track_publisher             105311\n",
       "track_tags                       0\n",
       "track_title                      1\n",
       "dtype: int64"
      ]
     },
     "execution_count": 6,
     "metadata": {},
     "output_type": "execute_result"
    }
   ],
   "source": [
    "tracks.isna().sum()"
   ]
  },
  {
   "cell_type": "code",
   "execution_count": 7,
   "id": "542df079-ee72-4025-9150-65dda0d04bfd",
   "metadata": {},
   "outputs": [
    {
     "data": {
      "text/plain": [
       "track_genre_top\n",
       "NaN                    56976\n",
       "Rock                   14182\n",
       "Experimental           10608\n",
       "Electronic              9372\n",
       "Hip-Hop                 3552\n",
       "Folk                    2803\n",
       "Pop                     2332\n",
       "Instrumental            2079\n",
       "International           1389\n",
       "Classical               1230\n",
       "Jazz                     571\n",
       "Old-Time / Historic      554\n",
       "Spoken                   423\n",
       "Country                  194\n",
       "Soul-RnB                 175\n",
       "Blues                    110\n",
       "Easy Listening            24\n",
       "Name: count, dtype: int64"
      ]
     },
     "execution_count": 7,
     "metadata": {},
     "output_type": "execute_result"
    }
   ],
   "source": [
    "tracks['track_genre_top'].value_counts(dropna=False)"
   ]
  },
  {
   "cell_type": "code",
   "execution_count": 8,
   "id": "05498932-00fc-4418-a375-0dcef4a2b56c",
   "metadata": {},
   "outputs": [
    {
     "data": {
      "text/html": [
       "<div>\n",
       "<style scoped>\n",
       "    .dataframe tbody tr th:only-of-type {\n",
       "        vertical-align: middle;\n",
       "    }\n",
       "\n",
       "    .dataframe tbody tr th {\n",
       "        vertical-align: top;\n",
       "    }\n",
       "\n",
       "    .dataframe thead th {\n",
       "        text-align: right;\n",
       "    }\n",
       "</style>\n",
       "<table border=\"1\" class=\"dataframe\">\n",
       "  <thead>\n",
       "    <tr style=\"text-align: right;\">\n",
       "      <th></th>\n",
       "      <th>genre_id</th>\n",
       "      <th>#tracks</th>\n",
       "      <th>parent</th>\n",
       "      <th>title</th>\n",
       "      <th>top_level</th>\n",
       "    </tr>\n",
       "  </thead>\n",
       "  <tbody>\n",
       "    <tr>\n",
       "      <th>0</th>\n",
       "      <td>1</td>\n",
       "      <td>8693</td>\n",
       "      <td>38</td>\n",
       "      <td>Avant-Garde</td>\n",
       "      <td>38</td>\n",
       "    </tr>\n",
       "    <tr>\n",
       "      <th>1</th>\n",
       "      <td>2</td>\n",
       "      <td>5271</td>\n",
       "      <td>0</td>\n",
       "      <td>International</td>\n",
       "      <td>2</td>\n",
       "    </tr>\n",
       "    <tr>\n",
       "      <th>2</th>\n",
       "      <td>3</td>\n",
       "      <td>1752</td>\n",
       "      <td>0</td>\n",
       "      <td>Blues</td>\n",
       "      <td>3</td>\n",
       "    </tr>\n",
       "    <tr>\n",
       "      <th>3</th>\n",
       "      <td>4</td>\n",
       "      <td>4126</td>\n",
       "      <td>0</td>\n",
       "      <td>Jazz</td>\n",
       "      <td>4</td>\n",
       "    </tr>\n",
       "    <tr>\n",
       "      <th>4</th>\n",
       "      <td>5</td>\n",
       "      <td>4106</td>\n",
       "      <td>0</td>\n",
       "      <td>Classical</td>\n",
       "      <td>5</td>\n",
       "    </tr>\n",
       "  </tbody>\n",
       "</table>\n",
       "</div>"
      ],
      "text/plain": [
       "   genre_id  #tracks  parent          title  top_level\n",
       "0         1     8693      38    Avant-Garde         38\n",
       "1         2     5271       0  International          2\n",
       "2         3     1752       0          Blues          3\n",
       "3         4     4126       0           Jazz          4\n",
       "4         5     4106       0      Classical          5"
      ]
     },
     "execution_count": 8,
     "metadata": {},
     "output_type": "execute_result"
    }
   ],
   "source": [
    "genre_info = pd.read_csv('fma_metadata/genres.csv')\n",
    "\n",
    "genre_info.head(5)"
   ]
  },
  {
   "cell_type": "markdown",
   "id": "770cf97f-3614-4d08-910e-05a57d575d33",
   "metadata": {},
   "source": [
    "## TODO / Other comments\n",
    "The track_genres column on the tracks dataset contains a list of integers that references the genres stored in the genres.csv file need to:\n",
    "\n",
    "- Check if the order of the genres listed means anything or is it just numerically sorted\n",
    "- If it is not sorted, check if for the records where top_genre is present that the genre id relates to the same genre in the genre.csv\n",
    "\n",
    "For now I am just going to work with an adapted version and drop the null top_genre rows and just work with that subset and try to get something basic working.\n",
    "\n",
    "Also not sure exactly whether track_date_created just relates to when the track was added to the DB as a lot of them have same value. Only a small number have date_recorded.\n",
    "\n",
    "Another thing to check\n",
    "\n",
    "- How many distinct artists in the dataset?\n",
    "- Do artists have one to one mapping of genres?\n",
    "- Same with albums"
   ]
  },
  {
   "cell_type": "code",
   "execution_count": 9,
   "id": "21d6c041-a8f6-446a-9b07-807d4ff2c67e",
   "metadata": {},
   "outputs": [
    {
     "data": {
      "text/plain": [
       "track_id                        0\n",
       "album_comments                  0\n",
       "album_date_created           1051\n",
       "album_date_released         16086\n",
       "album_engineer              40687\n",
       "album_favorites                 0\n",
       "album_id                        0\n",
       "album_information           10154\n",
       "album_listens                   0\n",
       "album_producer              39372\n",
       "album_tags                      0\n",
       "album_title                   309\n",
       "album_tracks                    0\n",
       "album_type                   2047\n",
       "artist_active_year_begin    40016\n",
       "artist_active_year_end      47200\n",
       "artist_associated_labels    43455\n",
       "artist_bio                  16194\n",
       "artist_comments                 0\n",
       "artist_date_created           215\n",
       "artist_favorites                0\n",
       "artist_id                       0\n",
       "artist_latitude             28618\n",
       "artist_location             17488\n",
       "artist_longitude            28618\n",
       "artist_members              27653\n",
       "artist_name                     0\n",
       "artist_related_projects     44233\n",
       "artist_tags                     0\n",
       "artist_website              12693\n",
       "artist_wikipedia_page       46864\n",
       "set_split                       0\n",
       "set_subset                      0\n",
       "track_bit_rate                  0\n",
       "track_comments                  0\n",
       "track_composer              48245\n",
       "track_date_created              0\n",
       "track_date_recorded         45347\n",
       "track_duration                  0\n",
       "track_favorites                 0\n",
       "track_genre_top                 0\n",
       "track_genres                    0\n",
       "track_genres_all                0\n",
       "track_information           48294\n",
       "track_interest                  0\n",
       "track_language_code         40215\n",
       "track_license                  59\n",
       "track_listens                   0\n",
       "track_lyricist              49498\n",
       "track_number                    0\n",
       "track_publisher             49188\n",
       "track_tags                      0\n",
       "track_title                     1\n",
       "dtype: int64"
      ]
     },
     "execution_count": 9,
     "metadata": {},
     "output_type": "execute_result"
    }
   ],
   "source": [
    "topg_tracks = tracks.dropna(subset=['track_genre_top'])\n",
    "\n",
    "topg_tracks.isna().sum()"
   ]
  },
  {
   "cell_type": "code",
   "execution_count": 10,
   "id": "a7e619b5-9382-42fc-af8b-9568342c3448",
   "metadata": {},
   "outputs": [
    {
     "name": "stderr",
     "output_type": "stream",
     "text": [
      "/var/folders/3n/8bmfwpt54b314gbkvqjql1n00000gq/T/ipykernel_89959/1124397087.py:5: SettingWithCopyWarning: \n",
      "A value is trying to be set on a copy of a slice from a DataFrame.\n",
      "Try using .loc[row_indexer,col_indexer] = value instead\n",
      "\n",
      "See the caveats in the documentation: https://pandas.pydata.org/pandas-docs/stable/user_guide/indexing.html#returning-a-view-versus-a-copy\n",
      "  topg_tracks.loc[:, 'genre_label'] = label_encoder.fit_transform(topg_tracks['track_genre_top'])\n"
     ]
    },
    {
     "data": {
      "text/plain": [
       "49598"
      ]
     },
     "execution_count": 10,
     "metadata": {},
     "output_type": "execute_result"
    }
   ],
   "source": [
    "# Not sure if this is necessary, but am assigning each of the categorical top genre labels an integer instead of having them as just text.\n",
    "# Using the sklearn label encoder for this\n",
    "\n",
    "label_encoder = LabelEncoder()\n",
    "topg_tracks.loc[:, 'genre_label'] = label_encoder.fit_transform(topg_tracks['track_genre_top'])\n",
    "\n",
    "len(topg_tracks)"
   ]
  },
  {
   "cell_type": "code",
   "execution_count": 11,
   "id": "9ae08f25-90b9-445a-b5d8-bcc543108767",
   "metadata": {},
   "outputs": [],
   "source": [
    "# sample = topg_tracks.sample(n=1000,random_state=42)\n",
    "sample = topg_tracks"
   ]
  },
  {
   "cell_type": "code",
   "execution_count": 12,
   "id": "2d46ef0f-d11a-4536-b317-8329db7e8935",
   "metadata": {},
   "outputs": [],
   "source": [
    "def gen_Train_and_Test(dataset,feature):\n",
    "    X = dataset[[feature]]\n",
    "    y = dataset['genre_label']\n",
    "\n",
    "    X_train, X_test, y_train, y_test = train_test_split(X, y, test_size=0.2, random_state=42)\n",
    "\n",
    "    print(\"Training sample length: \"+str(len(X_train)))\n",
    "    print(\"Testing sample length: \"+str(len(X_test)))\n",
    "\n",
    "    return X_train,X_test,y_train,y_test"
   ]
  },
  {
   "cell_type": "markdown",
   "id": "5cde0cd3",
   "metadata": {},
   "source": []
  },
  {
   "cell_type": "code",
   "execution_count": 13,
   "id": "cb35b7d6-04a6-4e03-b375-f87d8c9616a8",
   "metadata": {},
   "outputs": [
    {
     "name": "stdout",
     "output_type": "stream",
     "text": [
      "Training sample length: 39678\n",
      "Testing sample length: 9920\n"
     ]
    }
   ],
   "source": [
    "X_train, X_test, y_train, y_test = gen_Train_and_Test(sample,'track_duration')"
   ]
  },
  {
   "cell_type": "markdown",
   "id": "b4eadd14-dcbf-4679-8391-97243534cbd9",
   "metadata": {},
   "source": [
    "## KNN SINGLE FEATURE DURATION"
   ]
  },
  {
   "cell_type": "code",
   "execution_count": 16,
   "id": "bfdaa955-3e1d-42ae-8141-c67f8014cc76",
   "metadata": {},
   "outputs": [],
   "source": [
    "knn_classifier = KNeighborsClassifier(n_neighbors=10)\n",
    "knn_classifier.fit(X_train, y_train);"
   ]
  },
  {
   "cell_type": "code",
   "execution_count": 17,
   "id": "911d9c6f-8172-4f51-a2c8-cf3093651860",
   "metadata": {},
   "outputs": [
    {
     "name": "stdout",
     "output_type": "stream",
     "text": [
      "Accuracy: 0.30\n",
      "Classification Report:\n",
      "              precision    recall  f1-score   support\n",
      "\n",
      "           0       0.00      0.00      0.00        21\n",
      "           1       0.02      0.01      0.01       244\n",
      "           2       0.00      0.00      0.00        47\n",
      "           3       0.00      0.00      0.00         6\n",
      "           4       0.25      0.37      0.30      1910\n",
      "           5       0.34      0.41      0.37      2083\n",
      "           6       0.05      0.01      0.02       569\n",
      "           7       0.11      0.03      0.05       688\n",
      "           8       0.09      0.02      0.03       421\n",
      "           9       0.02      0.00      0.01       265\n",
      "          10       0.00      0.00      0.00       120\n",
      "          11       0.00      0.00      0.00       115\n",
      "          12       0.41      0.12      0.19       464\n",
      "          13       0.34      0.46      0.39      2846\n",
      "          14       0.00      0.00      0.00        33\n",
      "          15       0.00      0.00      0.00        88\n",
      "\n",
      "    accuracy                           0.30      9920\n",
      "   macro avg       0.10      0.09      0.09      9920\n",
      "weighted avg       0.25      0.30      0.26      9920\n",
      "\n"
     ]
    }
   ],
   "source": [
    "y_pred = knn_classifier.predict(X_test)\n",
    "\n",
    "accuracy = accuracy_score(y_test, y_pred)\n",
    "report = classification_report(y_test, y_pred)\n",
    "\n",
    "print(f\"Accuracy: {accuracy:.2f}\")\n",
    "print(\"Classification Report:\")\n",
    "print(report)"
   ]
  },
  {
   "cell_type": "markdown",
   "id": "40e2d81f-bf60-4c34-ad83-b54e39f1c1f7",
   "metadata": {},
   "source": [
    "## NAIVE BAYES SINGLE FEATURE DURATION"
   ]
  },
  {
   "cell_type": "code",
   "execution_count": 18,
   "id": "b8ad23b0-8f50-493a-8481-52563ceb80c2",
   "metadata": {},
   "outputs": [],
   "source": [
    "naive_bayes_classifier = GaussianNB()\n",
    "naive_bayes_classifier.fit(X_train, y_train);"
   ]
  },
  {
   "cell_type": "code",
   "execution_count": 19,
   "id": "271912e1-a66d-4828-a741-76ee932ee8ed",
   "metadata": {},
   "outputs": [
    {
     "name": "stdout",
     "output_type": "stream",
     "text": [
      "Accuracy: 0.31\n",
      "Classification Report:\n",
      "              precision    recall  f1-score   support\n",
      "\n",
      "           0       0.00      0.00      0.00        21\n",
      "           1       0.00      0.00      0.00       244\n",
      "           2       0.00      0.00      0.00        47\n",
      "           3       0.00      0.00      0.00         6\n",
      "           4       0.00      0.00      0.00      1910\n",
      "           5       0.55      0.19      0.28      2083\n",
      "           6       0.00      0.00      0.00       569\n",
      "           7       0.00      0.00      0.00       688\n",
      "           8       0.00      0.00      0.00       421\n",
      "           9       0.00      0.00      0.00       265\n",
      "          10       0.00      0.00      0.00       120\n",
      "          11       0.00      0.00      0.00       115\n",
      "          12       0.00      0.00      0.00       464\n",
      "          13       0.30      0.95      0.45      2846\n",
      "          14       0.00      0.00      0.00        33\n",
      "          15       0.11      0.12      0.12        88\n",
      "\n",
      "    accuracy                           0.31      9920\n",
      "   macro avg       0.06      0.08      0.05      9920\n",
      "weighted avg       0.20      0.31      0.19      9920\n",
      "\n"
     ]
    }
   ],
   "source": [
    "y_pred = naive_bayes_classifier.predict(X_test)\n",
    "\n",
    "accuracy = accuracy_score(y_test, y_pred)\n",
    "report = classification_report(y_test, y_pred)\n",
    "\n",
    "print(f\"Accuracy: {accuracy:.2f}\")\n",
    "print(\"Classification Report:\")\n",
    "print(report)"
   ]
  },
  {
   "cell_type": "markdown",
   "id": "5194021f-bd66-4cb1-9d90-ddf2f8f68201",
   "metadata": {},
   "source": [
    "## SVM SINGLE FEATURE DURATION"
   ]
  },
  {
   "cell_type": "code",
   "execution_count": 14,
   "id": "18f5468e-7d46-4680-ab92-753ae8f84764",
   "metadata": {},
   "outputs": [],
   "source": [
    "svm_model = SVC(kernel='linear',random_state=42)\n",
    "svm_model.fit(X_train,y_train);"
   ]
  },
  {
   "cell_type": "code",
   "execution_count": 15,
   "id": "55d3c69d-6329-4d0d-af62-b39375ca2f4e",
   "metadata": {},
   "outputs": [
    {
     "name": "stdout",
     "output_type": "stream",
     "text": [
      "Accuracy: 0.32\n",
      "Classification Report:\n",
      "                     precision    recall  f1-score   support\n",
      "\n",
      "              Blues       0.00      0.00      0.00        21\n",
      "          Classical       0.00      0.00      0.00       244\n",
      "            Country       0.00      0.00      0.00        47\n",
      "     Easy Listening       0.00      0.00      0.00         6\n",
      "         Electronic       0.00      0.00      0.00      1910\n",
      "       Experimental       0.55      0.21      0.30      2083\n",
      "               Folk       0.00      0.00      0.00       569\n",
      "            Hip-Hop       0.00      0.00      0.00       688\n",
      "       Instrumental       0.00      0.00      0.00       421\n",
      "      International       0.00      0.00      0.00       265\n",
      "               Jazz       0.00      0.00      0.00       120\n",
      "Old-Time / Historic       0.00      0.00      0.00       115\n",
      "                Pop       0.00      0.00      0.00       464\n",
      "               Rock       0.30      0.95      0.45      2846\n",
      "           Soul-RnB       0.00      0.00      0.00        33\n",
      "             Spoken       0.00      0.00      0.00        88\n",
      "\n",
      "           accuracy                           0.32      9920\n",
      "          macro avg       0.05      0.07      0.05      9920\n",
      "       weighted avg       0.20      0.32      0.19      9920\n",
      "\n"
     ]
    }
   ],
   "source": [
    "import warnings\n",
    "warnings.filterwarnings(\"ignore\", category=UserWarning)\n",
    "# warnings.filterwarnings(\"ignore\", category=UndefinedMetricWarning)\n",
    "\n",
    "y_pred = svm_model.predict(X_test)\n",
    "accuracy = accuracy_score(y_test,y_pred)\n",
    "\n",
    "# When using the sample to test this there was a problem with the class labels so fixed it here:\n",
    "unique_classes = sorted(set(y_test) | set(y_pred))\n",
    "report = classification_report(y_test, y_pred, labels=unique_classes, target_names=label_encoder.classes_)\n",
    "\n",
    "print(f\"Accuracy: {accuracy:.2f}\")\n",
    "print(\"Classification Report:\")\n",
    "print(report)"
   ]
  }
 ],
 "metadata": {
  "kernelspec": {
   "display_name": "Python 3 (ipykernel)",
   "language": "python",
   "name": "python3"
  },
  "language_info": {
   "codemirror_mode": {
    "name": "ipython",
    "version": 3
   },
   "file_extension": ".py",
   "mimetype": "text/x-python",
   "name": "python",
   "nbconvert_exporter": "python",
   "pygments_lexer": "ipython3",
   "version": "3.9.6"
  }
 },
 "nbformat": 4,
 "nbformat_minor": 5
}
